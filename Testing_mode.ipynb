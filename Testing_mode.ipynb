{
 "metadata": {
  "name": "",
  "signature": "sha256:a894c3935b7e14e2ef726328f9dd8f06094f86fe5a47e778e5afc6cc617dd080"
 },
 "nbformat": 3,
 "nbformat_minor": 0,
 "worksheets": [
  {
   "cells": [
    {
     "cell_type": "code",
     "collapsed": false,
     "input": [
      "from helpers import output_csv\n",
      "from datetime import datetime\n",
      "import pandas as pd\n",
      "import numpy as np\n",
      "import xgboost as xgb\n",
      "np.random.seed(4)\n",
      "from sklearn.cross_validation import train_test_split\n",
      "from sklearn.ensemble import RandomForestClassifier\n",
      "from sklearn.linear_model import LogisticRegression\n",
      "from sklearn.naive_bayes import BernoulliNB\n",
      "from sklearn.metrics import log_loss\n",
      "from sklearn.preprocessing import LabelEncoder"
     ],
     "language": "python",
     "metadata": {},
     "outputs": [],
     "prompt_number": 3
    },
    {
     "cell_type": "code",
     "collapsed": false,
     "input": [
      "leaderboard = False\n",
      "use_xgb = True"
     ],
     "language": "python",
     "metadata": {},
     "outputs": [],
     "prompt_number": 4
    },
    {
     "cell_type": "code",
     "collapsed": false,
     "input": [
      "def handle_categorical(df):\n",
      "    text_col = df.select_dtypes(['object']).columns\n",
      "#     for col in text_col:\n",
      "#         col_to_add = pd.get_dummies(df[col])\n",
      "#         df = df.drop([col], axis=1)\n",
      "#         for i, col2 in enumerate(col_to_add.columns):\n",
      "#             df['%s_%s' % (col, i)] = col_to_add[col2]\n",
      "    for col in text_col:\n",
      "        frequencies = {}\n",
      "        df[col].fillna(-1, inplace=True)\n",
      "        for value in df[col].unique():\n",
      "            frequencies[value] = df[df[col] == value].target.mean()\n",
      "        df[col] = df[col].apply(lambda v: frequencies[v] if v != -1 else v)\n",
      "    return df\n",
      "\n",
      "def handle_nas(df):\n",
      "    \"\"\"\n",
      "    Several ways can be used to replace NAs.\n",
      "    Currently it looks like the best option is to use -1.\n",
      "    Creating variables with info about NAs seems to worsen score.\n",
      "    \"\"\"\n",
      "    for col in df.columns:\n",
      "        df[col].fillna(-1, inplace=True)\n",
      "    return df\n",
      "\n",
      "def change_vars(df):\n",
      "    \"\"\"\n",
      "    Add variable transformations here, those will be applied\n",
      "    before handle_nas and handle_categorical. The changes in confirmed\n",
      "    were tested against 3-CV XGB.\n",
      "    \"\"\"\n",
      "    # Confirmed:\n",
      "    # for col in df.columns:\n",
      "        # df[col] = np.log1p(df[col] + 0.02) if df[col].dtype != 'object' else df[col]\n",
      "    return df\n",
      "\n",
      "def run_xgboost(train, target, test=None, test_target=None,\n",
      "    leaderboard=False):\n",
      "    \"\"\"\n",
      "    Run XGBoost in both local and leaderboard mode.\n",
      "    \"\"\"\n",
      "    xgboost_params = {\n",
      "        \"objective\": \"binary:logistic\",\n",
      "        \"booster\": \"gbtree\",\n",
      "        \"eval_metric\": \"logloss\",\n",
      "        \"eta\": 0.05,\n",
      "        \"base_score\": 0.761,\n",
      "        \"subsample\": 0.8,\n",
      "        \"colsample_bytree\": 0.8,\n",
      "        \"max_depth\": 10,\n",
      "        \"min_child_weight\": 0.75,\n",
      "        }\n",
      "    train = xgb.DMatrix(train, target)\n",
      "\n",
      "    if not leaderboard:\n",
      "        xgb.cv(xgboost_params, train, num_boost_round=550, nfold=5,\n",
      "               seed=0, verbose_eval=1, early_stopping_rounds=1)\n",
      "    else:\n",
      "        eval = [(train, 'Train')]\n",
      "        test = xgb.DMatrix(test)\n",
      "        clf = xgb.train(xgboost_params, train, num_boost_round=500, evals=eval)\n",
      "        return clf.predict(test)\n",
      "\n",
      "def run_sklearn(train, target, test):\n",
      "    \"\"\"\n",
      "    Run a RFC.\n",
      "    \"\"\"\n",
      "    # rfc = RandomForestClassifier(n_estimators=100, n_jobs=-1)\n",
      "    rfc = LogisticRegression()\n",
      "    rfc.fit(train, target)\n",
      "    pred = rfc.predict_proba(test)[:, 1]\n",
      "    # for i, j in zip(Xtrain.columns, rfc.feature_importances_):\n",
      "        # if j < 0.001:\n",
      "            # print(i, j*100)\n",
      "    return pred"
     ],
     "language": "python",
     "metadata": {},
     "outputs": [],
     "prompt_number": 5
    },
    {
     "cell_type": "code",
     "collapsed": false,
     "input": [
      "# We restrict to the first 10k entries to test.\n",
      "print(\"Start processing.\")\n",
      "start = datetime.now()\n",
      "Xtrain = pd.read_csv('train.csv')\n",
      "Xtrain = Xtrain.ix[1:50000, :]\n",
      "ytrain = Xtrain.target\n",
      "Xtrain.v56.fillna('AAAAAAAA', inplace=True)\n",
      "Xtrain.v56 = LabelEncoder().fit_transform(Xtrain.v56)\n",
      "# Try frequency count to encode v22\n",
      "# Xtrain.v22.fillna('#', inplace=True)\n",
      "# freq = dict(Xtrain.v22.value_counts())\n",
      "# Xtrain.v22 = [freq[label] for label in Xtrain.v22]\n",
      "Xtrain.drop(['v107', 'v22'], axis=1, inplace=True)\n",
      "Xtrain = change_vars(Xtrain)\n",
      "Xtrain = handle_categorical(Xtrain)\n",
      "Xtrain = handle_nas(Xtrain)\n",
      "Xtrain.drop(['target', 'ID'],  axis=1, inplace=True)\n",
      "print(\"Processing time : \", datetime.now() - start)\n",
      "\n",
      "\n",
      "print('Fitting and predicting')\n",
      "start = datetime.now()\n",
      "if use_xgb:\n",
      "    run_xgboost(Xtrain, ytrain, leaderboard=leaderboard)\n",
      "\n",
      "# Split if we use RFC or sklearn. XGBoost handles it.\n",
      "else:\n",
      "    if not leaderboard:\n",
      "        Xtrain, Xtest, ytrain, ytest = train_test_split(Xtrain, ytrain, test_size=0.2)\n",
      "    pred = run_sklearn(Xtrain, ytrain, Xtest)\n",
      "    if leaderboard:\n",
      "        output_csv(ids, pred)\n",
      "    else:\n",
      "        print('Score :', log_loss(ytest, pred))\n",
      "print('Fitting and predicting time :', datetime.now() - start)\n"
     ],
     "language": "python",
     "metadata": {},
     "outputs": [
      {
       "output_type": "stream",
       "stream": "stdout",
       "text": [
        "Start processing.\n",
        "Processing time : "
       ]
      },
      {
       "output_type": "stream",
       "stream": "stderr",
       "text": [
        "Will train until cv error hasn't decreased in 1 rounds.\n",
        "[0]\tcv-test-logloss:0.5434024+0.0023080058578781896\tcv-train-logloss:0.5402552+0.000582154412505811\n"
       ]
      },
      {
       "output_type": "stream",
       "stream": "stderr",
       "text": [
        "[1]\tcv-test-logloss:0.5373154+0.0021809785510178738\tcv-train-logloss:0.5302004+0.000986350566482313\n"
       ]
      },
      {
       "output_type": "stream",
       "stream": "stderr",
       "text": [
        "[2]\tcv-test-logloss:0.5325385999999999+0.0023893838201511333\tcv-train-logloss:0.5217124+0.0009942153891385921\n"
       ]
      },
      {
       "output_type": "stream",
       "stream": "stderr",
       "text": [
        "[3]\tcv-test-logloss:0.5277486+0.002471252524530814\tcv-train-logloss:0.513324+0.0007500898612833078\n"
       ]
      },
      {
       "output_type": "stream",
       "stream": "stderr",
       "text": [
        "[4]\tcv-test-logloss:0.5235708000000001+0.0021784176275452863\tcv-train-logloss:0.5055181999999999+0.001304226882102971\n"
       ]
      },
      {
       "output_type": "stream",
       "stream": "stderr",
       "text": [
        "[5]\tcv-test-logloss:0.5199426+0.0023675818549735482\tcv-train-logloss:0.4988512+0.0007530100663337724\n"
       ]
      },
      {
       "output_type": "stream",
       "stream": "stderr",
       "text": [
        "[6]\tcv-test-logloss:0.5165922000000001+0.0020838293020302772\tcv-train-logloss:0.4921988+0.0008734314855785772\n"
       ]
      },
      {
       "output_type": "stream",
       "stream": "stderr",
       "text": [
        "[7]\tcv-test-logloss:0.5133256+0.002182356671124109\tcv-train-logloss:0.4855754+0.0007917152518424738\n"
       ]
      },
      {
       "output_type": "stream",
       "stream": "stderr",
       "text": [
        "[8]\tcv-test-logloss:0.5106612+0.0024644583502262604\tcv-train-logloss:0.4796996+0.0008840750194412253\n"
       ]
      },
      {
       "output_type": "stream",
       "stream": "stderr",
       "text": [
        "[9]\tcv-test-logloss:0.5076272+0.002273113846686955\tcv-train-logloss:0.4735824+0.0010443023700059209\n"
       ]
      },
      {
       "output_type": "stream",
       "stream": "stderr",
       "text": [
        "[10]\tcv-test-logloss:0.5048436000000001+0.002486165690375462\tcv-train-logloss:0.4678116+0.0009072013227503589\n"
       ]
      },
      {
       "output_type": "stream",
       "stream": "stderr",
       "text": [
        "[11]\tcv-test-logloss:0.5023056+0.0025900927087654756\tcv-train-logloss:0.4622738+0.0007124393026777896\n"
       ]
      },
      {
       "output_type": "stream",
       "stream": "stderr",
       "text": [
        "[12]\tcv-test-logloss:0.5000578+0.0023990705200139582\tcv-train-logloss:0.4574358+0.0009293605113194819\n"
       ]
      },
      {
       "output_type": "stream",
       "stream": "stderr",
       "text": [
        "[13]\tcv-test-logloss:0.49808+0.0025499485485005456\tcv-train-logloss:0.45260619999999996+0.0008354958767103455\n"
       ]
      },
      {
       "output_type": "stream",
       "stream": "stderr",
       "text": [
        "[14]\tcv-test-logloss:0.49624880000000005+0.002610913510631874\tcv-train-logloss:0.4482562+0.0009437078785302211\n"
       ]
      },
      {
       "output_type": "stream",
       "stream": "stderr",
       "text": [
        "[15]\tcv-test-logloss:0.49432279999999995+0.002619494027479349\tcv-train-logloss:0.4437432+0.0009523556898554196\n"
       ]
      },
      {
       "output_type": "stream",
       "stream": "stderr",
       "text": [
        "[16]\tcv-test-logloss:0.4928318+0.002769236024610387\tcv-train-logloss:0.43948860000000006+0.0008500782552212362\n"
       ]
      },
      {
       "output_type": "stream",
       "stream": "stderr",
       "text": [
        "[17]\tcv-test-logloss:0.49122760000000004+0.0026837047974767867\tcv-train-logloss:0.4354796+0.0008972349970882816\n"
       ]
      },
      {
       "output_type": "stream",
       "stream": "stderr",
       "text": [
        "[18]\tcv-test-logloss:0.4898458+0.0025885154355344392\tcv-train-logloss:0.43149999999999994+0.0008758780737066048\n"
       ]
      },
      {
       "output_type": "stream",
       "stream": "stderr",
       "text": [
        "[19]\tcv-test-logloss:0.48852980000000007+0.002637849457417925\tcv-train-logloss:0.4277724+0.000957549079682075\n"
       ]
      },
      {
       "output_type": "stream",
       "stream": "stderr",
       "text": [
        "[20]\tcv-test-logloss:0.4875052+0.002567157992800602\tcv-train-logloss:0.4243748+0.0009385052796868012\n"
       ]
      },
      {
       "output_type": "stream",
       "stream": "stderr",
       "text": [
        "[21]\tcv-test-logloss:0.48642339999999995+0.002685486965151754\tcv-train-logloss:0.4209204+0.0010302327115753944\n"
       ]
      },
      {
       "output_type": "stream",
       "stream": "stderr",
       "text": [
        "[22]\tcv-test-logloss:0.48549619999999993+0.0026539291173654236\tcv-train-logloss:0.417604+0.0012128816924992997\n"
       ]
      },
      {
       "output_type": "stream",
       "stream": "stderr",
       "text": [
        "[23]\tcv-test-logloss:0.4845198+0.0026850285212637885\tcv-train-logloss:0.414246+0.001002378770724906\n"
       ]
      },
      {
       "output_type": "stream",
       "stream": "stderr",
       "text": [
        "[24]\tcv-test-logloss:0.48369439999999997+0.0026895778553520165\tcv-train-logloss:0.41117679999999995+0.0010943574187622567\n"
       ]
      },
      {
       "output_type": "stream",
       "stream": "stderr",
       "text": [
        "[25]\tcv-test-logloss:0.48295839999999995+0.0027354524744546416\tcv-train-logloss:0.40822440000000004+0.0012026608166893858\n"
       ]
      },
      {
       "output_type": "stream",
       "stream": "stderr",
       "text": [
        "[26]\tcv-test-logloss:0.48224719999999993+0.002783696132842086\tcv-train-logloss:0.40528340000000007+0.0010366232874096627\n"
       ]
      },
      {
       "output_type": "stream",
       "stream": "stderr",
       "text": [
        "[27]\tcv-test-logloss:0.481607+0.002848827618512577\tcv-train-logloss:0.402588+0.001111830382747294\n"
       ]
      },
      {
       "output_type": "stream",
       "stream": "stderr",
       "text": [
        "[28]\tcv-test-logloss:0.4809282+0.0027660912783203763\tcv-train-logloss:0.40003259999999996+0.0012055270382699782\n"
       ]
      },
      {
       "output_type": "stream",
       "stream": "stderr",
       "text": [
        "[29]\tcv-test-logloss:0.480373+0.0026916039827582345\tcv-train-logloss:0.3974344+0.00135272297237831\n"
       ]
      },
      {
       "output_type": "stream",
       "stream": "stderr",
       "text": [
        "[30]\tcv-test-logloss:0.47984119999999997+0.0026578585665907625\tcv-train-logloss:0.3948912+0.0013879683569880115\n"
       ]
      },
      {
       "output_type": "stream",
       "stream": "stderr",
       "text": [
        "[31]\tcv-test-logloss:0.4792892+0.002739733738887782\tcv-train-logloss:0.39243320000000004+0.0014111230137730758\n"
       ]
      },
      {
       "output_type": "stream",
       "stream": "stderr",
       "text": [
        "[32]\tcv-test-logloss:0.47872960000000003+0.002761972020133439\tcv-train-logloss:0.38996200000000003+0.0013666330890184048\n"
       ]
      },
      {
       "output_type": "stream",
       "stream": "stderr",
       "text": [
        "[33]\tcv-test-logloss:0.47823220000000005+0.0028503261848427117\tcv-train-logloss:0.38756159999999995+0.0013398838158586767\n"
       ]
      },
      {
       "output_type": "stream",
       "stream": "stderr",
       "text": [
        "[34]\tcv-test-logloss:0.47772319999999996+0.0027605491047978043\tcv-train-logloss:0.3850916+0.0013476533085330338\n"
       ]
      },
      {
       "output_type": "stream",
       "stream": "stderr",
       "text": [
        "[35]\tcv-test-logloss:0.4773448+0.002832288643482496\tcv-train-logloss:0.38300460000000003+0.0013512306390842397\n"
       ]
      },
      {
       "output_type": "stream",
       "stream": "stderr",
       "text": [
        "[36]\tcv-test-logloss:0.4770644+0.0028664115964041185\tcv-train-logloss:0.3809144+0.001299879009754358\n"
       ]
      },
      {
       "output_type": "stream",
       "stream": "stderr",
       "text": [
        "[37]\tcv-test-logloss:0.4766914+0.002804129854339837\tcv-train-logloss:0.3787358+0.0013691256187801102\n"
       ]
      },
      {
       "output_type": "stream",
       "stream": "stderr",
       "text": [
        "[38]\tcv-test-logloss:0.4763916+0.0028085569675546786\tcv-train-logloss:0.3766234+0.0013126490163025291\n"
       ]
      },
      {
       "output_type": "stream",
       "stream": "stderr",
       "text": [
        "[39]\tcv-test-logloss:0.4761362+0.0028213864251463317\tcv-train-logloss:0.3747696+0.001352815079750368\n"
       ]
      },
      {
       "output_type": "stream",
       "stream": "stderr",
       "text": [
        "[40]\tcv-test-logloss:0.47587+0.0028099451951950874\tcv-train-logloss:0.3728194+0.0013033401091043016\n"
       ]
      },
      {
       "output_type": "stream",
       "stream": "stderr",
       "text": [
        "[41]\tcv-test-logloss:0.47556539999999997+0.002784856376907084\tcv-train-logloss:0.37082380000000004+0.0013336233951157328\n"
       ]
      },
      {
       "output_type": "stream",
       "stream": "stderr",
       "text": [
        "[42]\tcv-test-logloss:0.4753076+0.0028097159002290644\tcv-train-logloss:0.3688354+0.001388827073468842\n"
       ]
      },
      {
       "output_type": "stream",
       "stream": "stderr",
       "text": [
        "[43]\tcv-test-logloss:0.47506919999999997+0.002787083881048439\tcv-train-logloss:0.3669022+0.0014071819214301938\n"
       ]
      },
      {
       "output_type": "stream",
       "stream": "stderr",
       "text": [
        "[44]\tcv-test-logloss:0.47484899999999997+0.0027631937318979313\tcv-train-logloss:0.3651206+0.001258531620580107\n"
       ]
      },
      {
       "output_type": "stream",
       "stream": "stderr",
       "text": [
        "[45]\tcv-test-logloss:0.47464459999999997+0.0028270240607394873\tcv-train-logloss:0.363374+0.0014459910096539339\n"
       ]
      },
      {
       "output_type": "stream",
       "stream": "stderr",
       "text": [
        "[46]\tcv-test-logloss:0.4743244+0.0028020811265914475\tcv-train-logloss:0.3616984+0.0012640874336848724\n"
       ]
      },
      {
       "output_type": "stream",
       "stream": "stderr",
       "text": [
        "[47]\tcv-test-logloss:0.47415240000000003+0.0028195707900317076\tcv-train-logloss:0.360235+0.0012866342137530682\n"
       ]
      },
      {
       "output_type": "stream",
       "stream": "stderr",
       "text": [
        "[48]\tcv-test-logloss:0.47395619999999994+0.002881705425611716\tcv-train-logloss:0.35867420000000005+0.0013643667248947411\n"
       ]
      },
      {
       "output_type": "stream",
       "stream": "stderr",
       "text": [
        "[49]\tcv-test-logloss:0.47389460000000005+0.002810650145428995\tcv-train-logloss:0.35716200000000004+0.0013147790688933186\n"
       ]
      },
      {
       "output_type": "stream",
       "stream": "stderr",
       "text": [
        "[50]\tcv-test-logloss:0.4738072+0.0028371660790302714\tcv-train-logloss:0.35567279999999996+0.0013479530258877815\n"
       ]
      },
      {
       "output_type": "stream",
       "stream": "stderr",
       "text": [
        "[51]\tcv-test-logloss:0.47361900000000007+0.0027874520982431356\tcv-train-logloss:0.3542406+0.001343671031167976\n"
       ]
      },
      {
       "output_type": "stream",
       "stream": "stderr",
       "text": [
        "[52]\tcv-test-logloss:0.47343660000000004+0.0027797301020063077\tcv-train-logloss:0.3528526+0.0013678249303182156\n"
       ]
      },
      {
       "output_type": "stream",
       "stream": "stderr",
       "text": [
        "[53]\tcv-test-logloss:0.4732576+0.0027880252222675455\tcv-train-logloss:0.3514628+0.0014612036682132956\n"
       ]
      },
      {
       "output_type": "stream",
       "stream": "stderr",
       "text": [
        "[54]\tcv-test-logloss:0.4731522+0.0028523727947097005\tcv-train-logloss:0.3500146+0.0016467282228710338\n"
       ]
      },
      {
       "output_type": "stream",
       "stream": "stderr",
       "text": [
        "[55]\tcv-test-logloss:0.4731422+0.0028460799988756502\tcv-train-logloss:0.34877600000000003+0.0017729518888001308\n"
       ]
      },
      {
       "output_type": "stream",
       "stream": "stderr",
       "text": [
        "[56]\tcv-test-logloss:0.47303280000000003+0.002810875977342301\tcv-train-logloss:0.347532+0.0017907972526224115\n"
       ]
      },
      {
       "output_type": "stream",
       "stream": "stderr",
       "text": [
        "[57]\tcv-test-logloss:0.4729744+0.002817444203529142\tcv-train-logloss:0.34614120000000004+0.0018745346515869083\n"
       ]
      },
      {
       "output_type": "stream",
       "stream": "stderr",
       "text": [
        "[58]\tcv-test-logloss:0.4729302000000001+0.002805277911366359\tcv-train-logloss:0.3447026+0.0020016757579588073\n"
       ]
      },
      {
       "output_type": "stream",
       "stream": "stderr",
       "text": [
        "[59]\tcv-test-logloss:0.4728649999999999+0.0028523237544149913\tcv-train-logloss:0.3433846+0.001956641060593379\n"
       ]
      },
      {
       "output_type": "stream",
       "stream": "stderr",
       "text": [
        "[60]\tcv-test-logloss:0.47278659999999995+0.00285906954095209\tcv-train-logloss:0.3420316+0.002056029630136691\n"
       ]
      },
      {
       "output_type": "stream",
       "stream": "stderr",
       "text": [
        "[61]\tcv-test-logloss:0.47268119999999997+0.0028627060205337128\tcv-train-logloss:0.34098740000000005+0.00200240401517776\n"
       ]
      },
      {
       "output_type": "stream",
       "stream": "stderr",
       "text": [
        "[62]\tcv-test-logloss:0.4727064+0.0028409001812805803\tcv-train-logloss:0.33983359999999996+0.0018120092273495663\n"
       ]
      },
      {
       "output_type": "stream",
       "stream": "stdout",
       "text": [
        " 0:00:06.246856\n",
        "Fitting and predicting\n",
        "Fitting and predicting time :"
       ]
      },
      {
       "output_type": "stream",
       "stream": "stdout",
       "text": [
        " 0:02:39.976094\n"
       ]
      },
      {
       "output_type": "stream",
       "stream": "stderr",
       "text": [
        "Stopping. Best iteration:\n",
        "[61] cv-mean:0.47268119999999997\tcv-std:0.0028627060205337128\n"
       ]
      }
     ],
     "prompt_number": 6
    },
    {
     "cell_type": "markdown",
     "metadata": {},
     "source": [
      "Caution this is prone to overfitting... Probably\n",
      "\n",
      "Regular split:\n",
      "Fitting and predicting time : 0:05:34.034932\n",
      "Best iteration:\n",
      "[68] cv-mean:0.4721310000000001\tcv-std:0.003203834265376416\n",
      "\n",
      "Naive bayes with NA:\n",
      "Fitting and predicting time : 0:02:46.051563\n",
      "Best iteration:\n",
      "[54] cv-mean:0.4729476\tcv-std:0.002807985156655925\n",
      "\n",
      "Naive bayes with NA:\n",
      "Fitting and predicting time : 0:02:39.976094\n",
      "Best iteration:\n",
      "[61] cv-mean:0.47268119999999997\tcv-std:0.0028627060205337128\n",
      "\n"
     ]
    }
   ],
   "metadata": {}
  }
 ]
}